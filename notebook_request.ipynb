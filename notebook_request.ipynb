{
 "cells": [
  {
   "cell_type": "code",
   "execution_count": 10,
   "metadata": {},
   "outputs": [],
   "source": [
    "# Libraries\n",
    "import requests"
   ]
  },
  {
   "cell_type": "code",
   "execution_count": 13,
   "metadata": {},
   "outputs": [],
   "source": [
    "# Parameters\n",
    "url = 'http://127.0.0.1:5000/quotes_list/'\n",
    "data = {\"tamanho\":150,\n",
    "        \"ano\":2001,\n",
    "        \"garagem\":2}\n",
    "auth = requests.auth.HTTPBasicAuth('thiago','alura')"
   ]
  },
  {
   "cell_type": "code",
   "execution_count": 15,
   "metadata": {},
   "outputs": [
    {
     "name": "stdout",
     "output_type": "stream",
     "text": [
      "200\n",
      "{'price': 216336.73100505443}\n"
     ]
    }
   ],
   "source": [
    "# Testing API\n",
    "response = requests.post(url, json=data, auth=auth)\n",
    "print(response.status_code)\n",
    "print(response.json())"
   ]
  }
 ],
 "metadata": {
  "interpreter": {
   "hash": "f438863bc79e955f4ee16937df965ca8176ac208ac3ad6ddb8872b4059198bbe"
  },
  "kernelspec": {
   "display_name": "Python 3.10.4 ('mlops')",
   "language": "python",
   "name": "python3"
  },
  "language_info": {
   "codemirror_mode": {
    "name": "ipython",
    "version": 3
   },
   "file_extension": ".py",
   "mimetype": "text/x-python",
   "name": "python",
   "nbconvert_exporter": "python",
   "pygments_lexer": "ipython3",
   "version": "3.10.4"
  },
  "orig_nbformat": 4
 },
 "nbformat": 4,
 "nbformat_minor": 2
}
